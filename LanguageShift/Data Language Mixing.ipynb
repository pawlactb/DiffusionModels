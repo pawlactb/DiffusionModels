{
 "cells": [
  {
   "cell_type": "code",
   "execution_count": 27,
   "metadata": {
    "collapsed": false
   },
   "outputs": [],
   "source": [
    "from mesa import Agent, Model\n",
    "from mesa.datacollection import DataCollector\n",
    "from mesa.time import SimultaneousActivation\n",
    "from mesa.space import ContinuousSpace\n",
    "import numpy as np\n",
    "import pandas as pd\n",
    "import random\n",
    "from AdjacencyGrid import AdjacencyGrid\n",
    "\n",
    "\n",
    "class LanguageAgent(Agent):\n",
    "    def __init__(self, model, unique_id, initial_population, initial_prob_v):\n",
    "        super().__init__(unique_id, model)\n",
    "        self.population = initial_population\n",
    "        self.probability = np.array(initial_prob_v)\n",
    "        self.next_probability = np.array(self.probability, copy=True)\n",
    "        self.diffusion = self.model.diffusion\n",
    "\n",
    "    def calculate_contribution(self, other):\n",
    "        '''\n",
    "        args:\n",
    "            other(LanguageAgent): an adjacent or otherwise relevant other LanguageAgent\n",
    "        '''\n",
    "        return ((other.population * other.probability) / (4 * np.pi * self.diffusion)) * np.exp(\n",
    "            -np.square(self.model.grid.get_distance(self.pos, other.pos))) / (4 * self.diffusion)\n",
    "\n",
    "    def step(self):\n",
    "        f = np.zeros(len(self.probability))\n",
    "        for neighbor in self.model.grid.get_neighbors(self.pos, moore=True, include_center=False, radius=1):\n",
    "            f += self.calculate_contribution(neighbor)\n",
    "\n",
    "        self.next_probability = ((self.population * self.probability) + f) / (np.sum(f) + self.population)\n",
    "\n",
    "    def advance(self):\n",
    "        self.probability, self.next_probability = self.next_probability, self.probability\n",
    "\n",
    "\n",
    "class LanguageModel(Model):\n",
    "    def __init__(self, diffusivity, filename):\n",
    "        super()\n",
    "        self.num_agents = 0\n",
    "        #self.grid = ContinuousSpace(1000, 1000, torus=False)\n",
    "        self.grid = AdjacencyGrid()\n",
    "        self.schedule = SimultaneousActivation(self)\n",
    "        self.diffusion = np.array(diffusivity)\n",
    "        self.pop_data = self.read_file(filename)\n",
    "\n",
    "        for loc in self.pop_data.loc[:]['location_id']:\n",
    "                #print('id: ' + str(idx))\n",
    "                self.num_agents += 1\n",
    "                # Create agents, add them to scheduler\n",
    "                a = LanguageAgent(self, loc, 1000 + 500 * random.random(), [random.random(), random.random()])\n",
    "                self.schedule.add(a)\n",
    "\n",
    "                # add the agent at position (x,y)\n",
    "                #print('lat: ' + str(self.pop_data.loc[idx]['latitude']))\n",
    "                #print('long ' + str(self.pop_data.loc[idx]['longitude']))\n",
    "                self.grid.place_agent(a, (float(self.pop_data.loc[a.unique_id - 1]['latitude']), float(self.pop_data.loc[a.unique_id - 1]['longitude'])))\n",
    "                #print('added')\n",
    "\n",
    "        self.grid.find_neighbors()\n",
    "\n",
    "        self.datacollector = DataCollector(\n",
    "            model_reporters={},\n",
    "            agent_reporters={\"diff\": lambda x: x.next_probability - x.probability})\n",
    "\n",
    "    def read_file(self, filename):\n",
    "        data = pd.read_csv(filename)\n",
    "        return data.dropna()\n",
    "\n",
    "\n",
    "    def step(self):\n",
    "        '''Advance the model by one step.'''\n",
    "        self.datacollector.collect(self)\n",
    "        self.schedule.step()\n",
    "\n",
    "    def run(self, timesteps):\n",
    "        for t in range(timesteps):\n",
    "            self.step()\n",
    "            print('Model Step: ' + str(t+1))"
   ]
  },
  {
   "cell_type": "code",
   "execution_count": 28,
   "metadata": {
    "collapsed": false,
    "scrolled": true
   },
   "outputs": [
    {
     "name": "stdout",
     "output_type": "stream",
     "text": [
      "diffusivities: [ 0.5  0.5]\n"
     ]
    }
   ],
   "source": [
    "import matplotlib.pyplot as plt\n",
    "\n",
    "model = LanguageModel([.5, .5], 'speakers.csv')\n",
    "\n",
    "print(\"diffusivities: \" + str(model.diffusion))\n",
    "\n",
    "\n"
   ]
  },
  {
   "cell_type": "code",
   "execution_count": 31,
   "metadata": {
    "collapsed": false
   },
   "outputs": [
    {
     "ename": "ValueError",
     "evalue": "Length of new names must be 1, got 2",
     "output_type": "error",
     "traceback": [
      "\u001b[0;31m---------------------------------------------------------------------------\u001b[0m",
      "\u001b[0;31mValueError\u001b[0m                                Traceback (most recent call last)",
      "\u001b[0;32m<ipython-input-31-1b5020d8255d>\u001b[0m in \u001b[0;36m<module>\u001b[0;34m()\u001b[0m\n\u001b[0;32m----> 1\u001b[0;31m \u001b[0mmodel\u001b[0m\u001b[0;34m.\u001b[0m\u001b[0mdatacollector\u001b[0m\u001b[0;34m.\u001b[0m\u001b[0mget_agent_vars_dataframe\u001b[0m\u001b[0;34m(\u001b[0m\u001b[0;34m)\u001b[0m\u001b[0;34m\u001b[0m\u001b[0m\n\u001b[0m",
      "\u001b[0;32m/home/pawlactb/Dropbox/language/lib/python3.5/site-packages/mesa/datacollection.py\u001b[0m in \u001b[0;36mget_agent_vars_dataframe\u001b[0;34m(self)\u001b[0m\n\u001b[1;32m    189\u001b[0m                     \u001b[0mdata\u001b[0m\u001b[0;34m[\u001b[0m\u001b[0;34m(\u001b[0m\u001b[0mstep\u001b[0m\u001b[0;34m,\u001b[0m \u001b[0magent_id\u001b[0m\u001b[0;34m)\u001b[0m\u001b[0;34m]\u001b[0m\u001b[0;34m[\u001b[0m\u001b[0mvar\u001b[0m\u001b[0;34m]\u001b[0m \u001b[0;34m=\u001b[0m \u001b[0mval\u001b[0m\u001b[0;34m\u001b[0m\u001b[0m\n\u001b[1;32m    190\u001b[0m         \u001b[0mdf\u001b[0m \u001b[0;34m=\u001b[0m \u001b[0mpd\u001b[0m\u001b[0;34m.\u001b[0m\u001b[0mDataFrame\u001b[0m\u001b[0;34m.\u001b[0m\u001b[0mfrom_dict\u001b[0m\u001b[0;34m(\u001b[0m\u001b[0mdata\u001b[0m\u001b[0;34m,\u001b[0m \u001b[0morient\u001b[0m\u001b[0;34m=\u001b[0m\u001b[0;34m\"index\"\u001b[0m\u001b[0;34m)\u001b[0m\u001b[0;34m\u001b[0m\u001b[0m\n\u001b[0;32m--> 191\u001b[0;31m         \u001b[0mdf\u001b[0m\u001b[0;34m.\u001b[0m\u001b[0mindex\u001b[0m\u001b[0;34m.\u001b[0m\u001b[0mnames\u001b[0m \u001b[0;34m=\u001b[0m \u001b[0;34m[\u001b[0m\u001b[0;34m\"Step\"\u001b[0m\u001b[0;34m,\u001b[0m \u001b[0;34m\"AgentID\"\u001b[0m\u001b[0;34m]\u001b[0m\u001b[0;34m\u001b[0m\u001b[0m\n\u001b[0m\u001b[1;32m    192\u001b[0m         \u001b[0;32mreturn\u001b[0m \u001b[0mdf\u001b[0m\u001b[0;34m\u001b[0m\u001b[0m\n\u001b[1;32m    193\u001b[0m \u001b[0;34m\u001b[0m\u001b[0m\n",
      "\u001b[0;32m/home/pawlactb/Dropbox/language/lib/python3.5/site-packages/pandas/core/indexes/base.py\u001b[0m in \u001b[0;36m_set_names\u001b[0;34m(self, values, level)\u001b[0m\n\u001b[1;32m   1059\u001b[0m         \u001b[0;32mif\u001b[0m \u001b[0mlen\u001b[0m\u001b[0;34m(\u001b[0m\u001b[0mvalues\u001b[0m\u001b[0;34m)\u001b[0m \u001b[0;34m!=\u001b[0m \u001b[0;36m1\u001b[0m\u001b[0;34m:\u001b[0m\u001b[0;34m\u001b[0m\u001b[0m\n\u001b[1;32m   1060\u001b[0m             raise ValueError('Length of new names must be 1, got %d' %\n\u001b[0;32m-> 1061\u001b[0;31m                              len(values))\n\u001b[0m\u001b[1;32m   1062\u001b[0m         \u001b[0mself\u001b[0m\u001b[0;34m.\u001b[0m\u001b[0mname\u001b[0m \u001b[0;34m=\u001b[0m \u001b[0mvalues\u001b[0m\u001b[0;34m[\u001b[0m\u001b[0;36m0\u001b[0m\u001b[0;34m]\u001b[0m\u001b[0;34m\u001b[0m\u001b[0m\n\u001b[1;32m   1063\u001b[0m \u001b[0;34m\u001b[0m\u001b[0m\n",
      "\u001b[0;31mValueError\u001b[0m: Length of new names must be 1, got 2"
     ]
    }
   ],
   "source": [
    "model.datacollector.get_agent_vars_dataframe()"
   ]
  },
  {
   "cell_type": "code",
   "execution_count": null,
   "metadata": {
    "collapsed": true
   },
   "outputs": [],
   "source": []
  }
 ],
 "metadata": {
  "kernelspec": {
   "display_name": "language",
   "language": "python",
   "name": "language"
  },
  "language_info": {
   "codemirror_mode": {
    "name": "ipython",
    "version": 3
   },
   "file_extension": ".py",
   "mimetype": "text/x-python",
   "name": "python",
   "nbconvert_exporter": "python",
   "pygments_lexer": "ipython3",
   "version": "3.5.2"
  }
 },
 "nbformat": 4,
 "nbformat_minor": 2
}
